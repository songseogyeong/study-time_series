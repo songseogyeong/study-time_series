{
 "cells": [
  {
   "cell_type": "markdown",
   "id": "57d01763-8f1f-4781-ada5-a09ced56abf5",
   "metadata": {},
   "source": [
    "### 정상성 (定常性, Stationarity = 일관된)\n",
    "- 일정해서 늘 한결같은 성질을 뜻한다.'  \n",
    "  <sub>*常(상) = 항상 상 =  항상 같다 = 상수 = 한결 같은 성질</sub>\n",
    "- 관측된 시간에 무관하게 과거, 현재, 미래의 분포가 같아야 한다.\n",
    "- 평균, 분산 등이 변하지 않으며 추세나 계절성이 없는 시계열 데이터이다.\n",
    "- 하지만, 정상성을 나타내는 시계열은 장기적으로 볼 때 예측할 수 있는 패턴을 나타내지 않아야 한다. 즉, 불규칙 해야한다.  \n",
    "- 즉, 어떤 특정한 주기로 반복하는 계절성이나 위로, 아래로 가능 추세성이 없어야 한다.  \n",
    "  <sub>*패턴이 있으면 안되고 일관된 분포를 지닌 정상성을 띄고 있어야 예측이 가능하다.  \n",
    "  *평균과 분산이 변하지 않는다는 것은 추세나 계절성이 없다는 것이고 우연변동도 정상성을 무조건 가지고 있지 않기 때문에 검사해야 한다.  \n",
    "  *정상성은 늘 같다는 것이며 분포나 분산이 항상 일정하고 똑같아야 한다. 예측할 수 있는 패턴이 나오면 안되고 추세나 계절이 없어야 한다.</sub>\n",
    "\n",
    "<img src=\"./images/stationary.png\"> \n",
    "\n",
    "- 정상성 = b, g\n",
    "- 계절성 = d, h (주기가 있어야하며, 주기별로 변동)\n",
    "- 추세 = a, c, e, f\n",
    "- 계절-추세 = i"
   ]
  }
 ],
 "metadata": {
  "kernelspec": {
   "display_name": "Python 3 (ipykernel)",
   "language": "python",
   "name": "python3"
  },
  "language_info": {
   "codemirror_mode": {
    "name": "ipython",
    "version": 3
   },
   "file_extension": ".py",
   "mimetype": "text/x-python",
   "name": "python",
   "nbconvert_exporter": "python",
   "pygments_lexer": "ipython3",
   "version": "3.11.8"
  }
 },
 "nbformat": 4,
 "nbformat_minor": 5
}
